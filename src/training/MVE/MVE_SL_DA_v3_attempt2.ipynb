{
 "cells": [
  {
   "cell_type": "code",
   "execution_count": null,
   "id": "a8aa3fe5-4277-47fc-b26d-baa137256f17",
   "metadata": {
    "colab": {
     "base_uri": "https://localhost:8080/"
    },
    "executionInfo": {
     "elapsed": 10375,
     "status": "ok",
     "timestamp": 1718868666013,
     "user": {
      "displayName": "Shrihan Agarwal",
      "userId": "00018416289398983661"
     },
     "user_tz": 300
    },
    "id": "a8aa3fe5-4277-47fc-b26d-baa137256f17",
    "outputId": "9ad89b68-4fd0-4146-a087-24cd367fb09f"
   },
   "outputs": [],
   "source": [
    "# Imports we will use\n",
    "import torch\n",
    "import gc\n",
    "from torch import nn\n",
    "import torch.nn.functional as F\n",
    "from torch.utils.data import DataLoader, TensorDataset\n",
    "from torch.autograd import Function\n",
    "import matplotlib.pyplot as plt\n",
    "import matplotlib\n",
    "import numpy as np\n",
    "import pandas as pd\n",
    "import random\n",
    "from pathlib import Path\n",
    "from sklearn.metrics import r2_score\n",
    "from astropy.visualization import make_lupton_rgb\n",
    "from sklearn.manifold import Isomap\n",
    "from train_utils import *\n",
    "import time\n",
    "import os\n",
    "import json\n",
    "\n",
    "%matplotlib inline\n",
    "plt.rcParams.update({'font.size': 12})\n",
    "\n",
    "# Set Seed\n",
    "torch.manual_seed(23)\n",
    "\n",
    "# Find if cuda is available\n",
    "device = \"cuda\" if torch.cuda.is_available() else \"cpu\"\n",
    "print(f\"Using {device} device\")"
   ]
  },
  {
   "cell_type": "markdown",
   "id": "558fe6bf-6f41-4bae-b43f-d2660b3e4715",
   "metadata": {},
   "source": [
    "## Load Data"
   ]
  },
  {
   "cell_type": "code",
   "execution_count": null,
   "id": "3efc6755-daeb-48ca-bbc7-c5a3b539c5b7",
   "metadata": {
    "executionInfo": {
     "elapsed": 19938,
     "status": "ok",
     "timestamp": 1718868749575,
     "user": {
      "displayName": "Shrihan Agarwal",
      "userId": "00018416289398983661"
     },
     "user_tz": 300
    },
    "id": "3efc6755-daeb-48ca-bbc7-c5a3b539c5b7"
   },
   "outputs": [],
   "source": [
    "# Specify paths, load in data, and subsample labels\n",
    "head = Path.cwd().parents[1]\n",
    "source_img_path = head / 'data/mb_lenscolor_source/mb_lenscolor_source.npy'\n",
    "target_img_path = head / 'data/mb_lenscolor_target/mb_lenscolor_target.npy'\n",
    "source_meta = head / 'data/mb_lenscolor_source/mb_lenscolor_source_metadata.csv'\n",
    "target_meta = head / 'data/mb_lenscolor_target/mb_lenscolor_target_metadata.csv'\n",
    "batch_size = 32\n",
    "source_train_dataloader, source_test_dataloader, source_val_dataloader, source_data = create_dataloader(source_img_path, source_meta, batch_size)\n",
    "target_train_dataloader, target_test_dataloader, target_val_dataloader, target_data = create_dataloader(target_img_path, target_meta, batch_size)\n",
    "isomap_source_label_sample = pd.read_csv(source_meta)['PLANE_1-OBJECT_1-MASS_PROFILE_1-theta_E-g'].tolist()[:1000]\n",
    "isomap_target_label_sample = pd.read_csv(target_meta)['PLANE_1-OBJECT_1-MASS_PROFILE_1-theta_E-g'].tolist()[:1000]"
   ]
  },
  {
   "cell_type": "code",
   "execution_count": null,
   "id": "b72c4588-acb2-478c-96e9-cb09a0380ecd",
   "metadata": {
    "colab": {
     "base_uri": "https://localhost:8080/",
     "height": 673
    },
    "executionInfo": {
     "elapsed": 559,
     "status": "ok",
     "timestamp": 1718868750133,
     "user": {
      "displayName": "Shrihan Agarwal",
      "userId": "00018416289398983661"
     },
     "user_tz": 300
    },
    "id": "b72c4588-acb2-478c-96e9-cb09a0380ecd",
    "outputId": "651cb9ac-efea-4f14-b3a0-f03648a4081a"
   },
   "outputs": [],
   "source": [
    "# Visualize source data\n",
    "visualize_data(source_data)"
   ]
  },
  {
   "cell_type": "code",
   "execution_count": null,
   "id": "6d6e4147-ce23-4fca-b1aa-42122b0e2501",
   "metadata": {
    "colab": {
     "base_uri": "https://localhost:8080/",
     "height": 673
    },
    "executionInfo": {
     "elapsed": 665,
     "status": "ok",
     "timestamp": 1718868750796,
     "user": {
      "displayName": "Shrihan Agarwal",
      "userId": "00018416289398983661"
     },
     "user_tz": 300
    },
    "id": "6d6e4147-ce23-4fca-b1aa-42122b0e2501",
    "outputId": "eccb0d95-4566-445f-a058-b1d5b87765b0"
   },
   "outputs": [],
   "source": [
    "# Visualize target data\n",
    "visualize_data(target_data)"
   ]
  },
  {
   "cell_type": "markdown",
   "id": "303847dc-72d9-4e66-ac2b-2f9009862d51",
   "metadata": {},
   "source": [
    "## Model Setup"
   ]
  },
  {
   "cell_type": "code",
   "execution_count": null,
   "id": "4a95a7e1-f8fc-4297-bb77-ffcadd758b32",
   "metadata": {},
   "outputs": [],
   "source": [
    "# Choose how you prefer to evolve beta and the DA Weight\n",
    "def da_weight_function(epoch):\n",
    "    \"\"\" Linear evolving DA weighting in loss function. \"\"\"\n",
    "    da_weight = init_wt_da - ((init_wt_da - final_wt_da) * (epoch / n_epoch))\n",
    "    return da_weight\n",
    "\n",
    "def beta_function(epoch):\n",
    "    \"\"\" Linear evolving beta weighting in loss function until halfway through total epochs. \"\"\"\n",
    "    beta_val = beta_init - (beta_init - beta_final) * (epoch / n_epoch)\n",
    "    return beta_val\n",
    "\n",
    "# Initialize hyperparameters\n",
    "learning_rate = 3e-5\n",
    "n_epoch = 150\n",
    "init_wt_da = 1.4\n",
    "final_wt_da = 1.0\n",
    "beta_init = 1.0\n",
    "beta_final = 0.4"
   ]
  },
  {
   "cell_type": "code",
   "execution_count": null,
   "id": "b39dd0da-2ee4-4c57-a019-279ceb440b13",
   "metadata": {},
   "outputs": [],
   "source": [
    "# Initialize model\n",
    "model = NeuralNetworkMVE(npix=40).cuda()\n",
    "\n",
    "# Loss Functions / Optimizers\n",
    "regressor_loss_fn = nn.MSELoss().cuda()\n",
    "da_loss_fn = MMD_loss()\n",
    "optimizer = torch.optim.Adam(model.parameters(), lr=learning_rate)"
   ]
  },
  {
   "cell_type": "code",
   "execution_count": null,
   "id": "5594732b-4b3f-4d97-854f-fd1446f20ed0",
   "metadata": {},
   "outputs": [],
   "source": [
    "# To continue training from a past model, enter path into load_mod_name\n",
    "# Else, enter None, and you still have to run the function.\n",
    "# Then, enter save_mod_name to save for the current run  \n",
    "\n",
    "load_mod_name = None # \"models/start_code_test_2\"\n",
    "stats, model, optimizer, best_target_R2, best_mve_loss = initialize_state(load_mod_name, model, optimizer)\n",
    "\n",
    "\n",
    "#save_mod_name = load_mod_name # may overwrite loaded model\n",
    "save_mod_name = \"models/mve_v3_aug4_2300\""
   ]
  },
  {
   "cell_type": "markdown",
   "id": "97552c09-e6b9-4726-92b1-733a3e590a7e",
   "metadata": {},
   "source": [
    "## Train"
   ]
  },
  {
   "cell_type": "code",
   "execution_count": null,
   "id": "49bde5ed-7373-461d-81ee-11b430fd20d3",
   "metadata": {
    "colab": {
     "base_uri": "https://localhost:8080/"
    },
    "executionInfo": {
     "elapsed": 293833,
     "status": "ok",
     "timestamp": 1718869045423,
     "user": {
      "displayName": "Shrihan Agarwal",
      "userId": "00018416289398983661"
     },
     "user_tz": 300
    },
    "id": "1dfe3810-672c-4a28-b606-b3079a40fca4",
    "outputId": "45493f2a-ea42-401e-f88b-b0ad39b969ed"
   },
   "outputs": [],
   "source": [
    "print(\"Beginning Training...\")\n",
    "\n",
    "\n",
    "for curr_epoch in range(stats['epoch_no'], stats['epoch_no'] + n_epoch):\n",
    "\n",
    "        # Generate isomaps every 20 epochs\n",
    "        if (curr_epoch % 20 == 0):\n",
    "            print(\"Generating Isomap...\")\n",
    "            source_iso, target_iso = generate_isomaps(source_data, target_data, model)\n",
    "            show_isomaps(source_iso, \n",
    "                         target_iso, \n",
    "                         isomap_source_label_sample, \n",
    "                         isomap_target_label_sample, \n",
    "                         save_mod_name, \n",
    "                         name = stats[\"epoch_no\"], \n",
    "                         axlim = 50, save = True)\n",
    "\n",
    "        # Save best models\n",
    "        if (len(stats['val_target_r2_score']) > 0):\n",
    "            \n",
    "            # Save and overwrite model every best target R2\n",
    "            if (stats['val_target_r2_score'][-1] > best_target_R2):\n",
    "                print(\"Saving Model...\", end = ' ')\n",
    "                save_model(save_mod_name, model, optimizer, stats)\n",
    "                best_target_R2 = stats['val_target_r2_score'][-1]\n",
    "                print(\"Done.\")\n",
    "                \n",
    "            # Save and overwrite model every best target MVE Loss\n",
    "            if (stats['val_target_mve_loss'][-1] < best_mve_loss):\n",
    "                print(\"Saving Model MVE...\", end = ' ')\n",
    "                mve_name = save_mod_name + \"_mve\"\n",
    "                save_model(mve_name, model, optimizer, stats)\n",
    "                best_mve_loss = stats['val_target_mve_loss'][-1]\n",
    "                print(\"Done.\")\n",
    "\n",
    "        \n",
    "        start_time = time.time()\n",
    "\n",
    "        beta = beta_function(curr_epoch)\n",
    "        da_weight = da_weight_function(curr_epoch)\n",
    "\n",
    "        # Train, backpropagate\n",
    "        vals = train_loop_mve(source_train_dataloader, \n",
    "                              target_train_dataloader, \n",
    "                              model,\n",
    "                              regressor_loss_fn, \n",
    "                              da_loss_fn, \n",
    "                              optimizer,\n",
    "                              da_weight, \n",
    "                              beta)\n",
    "\n",
    "        # Test, validate metrics\n",
    "        vals_validate = test_loop_mve(source_val_dataloader, \n",
    "                                      target_val_dataloader,\n",
    "                                      model, \n",
    "                                      regressor_loss_fn, \n",
    "                                      beta)\n",
    "\n",
    "        # Training Metrics\n",
    "        stats['train_DA_loss'].append(vals[0])\n",
    "        stats['train_regression_loss'].append(vals[1])\n",
    "        stats['train_mve_loss'].append(vals[2])\n",
    "        stats['train_r2_score'].append(vals[3])\n",
    "\n",
    "        # Validation Metrics\n",
    "        stats['val_source_regression_loss'].append(vals_validate[0])\n",
    "        stats['val_target_regression_loss'].append(vals_validate[1])\n",
    "        stats['val_source_r2_score'].append(vals_validate[2])\n",
    "        stats['val_target_r2_score'].append(vals_validate[3])\n",
    "        stats['val_source_mve_loss'].append(vals_validate[4])\n",
    "        stats['val_target_mve_loss'].append(vals_validate[5])\n",
    "        \n",
    "        # Other Parameters\n",
    "        stats['da_weight'].append(da_weight)\n",
    "        stats['beta'].append(beta)\n",
    "        stats['epoch_no'] += 1\n",
    "\n",
    "        print_epoch_scores(stats, curr_epoch, time.time() - start_time)"
   ]
  },
  {
   "cell_type": "code",
   "execution_count": null,
   "id": "5a3b9217-7564-438b-b584-a5597fbbe5f4",
   "metadata": {},
   "outputs": [],
   "source": [
    "# Saves the end result model after running for all stages, as well as the .json of stats\n",
    "\n",
    "state = {\n",
    "    'epoch': stats['epoch_no'],\n",
    "    'state_dict': model.state_dict(),\n",
    "    'optimizer': optimizer.state_dict(),\n",
    "}\n",
    "final_mod_name = save_mod_name + \"_final\"\n",
    "torch.save(state, final_mod_name)\n",
    "json.dump(stats, open(final_mod_name+'.json', 'w'))"
   ]
  },
  {
   "cell_type": "markdown",
   "id": "abb209dd-66b9-48f0-b914-3cfd98332706",
   "metadata": {},
   "source": [
    "## Visualize Results"
   ]
  },
  {
   "cell_type": "code",
   "execution_count": null,
   "id": "a6694f78-2220-47f8-86de-dbc066dbda67",
   "metadata": {},
   "outputs": [],
   "source": [
    "# Loads a model for plotting/viz\n",
    "\n",
    "viz_mod_name = final_mod_name # \"models/start_code_test_4_final\"\n",
    "model.load_state_dict(torch.load(viz_mod_name)['state_dict'])\n",
    "stats = json.load(open(viz_mod_name+'.json', 'r'))"
   ]
  },
  {
   "cell_type": "code",
   "execution_count": null,
   "id": "70ab5e86-562e-4eb6-8ea5-a118620db5e5",
   "metadata": {},
   "outputs": [],
   "source": [
    "# Visualize isomaps \n",
    "trained_source_iso, trained_target_iso = generate_isomaps(source_data, target_data, model)\n",
    "show_isomaps(trained_source_iso, trained_target_iso, isomap_source_label_sample, isomap_target_label_sample, viz_mod_name, axlim = 0.005)"
   ]
  },
  {
   "cell_type": "code",
   "execution_count": null,
   "id": "YfplCDIb-UU_",
   "metadata": {
    "colab": {
     "base_uri": "https://localhost:8080/",
     "height": 490
    },
    "executionInfo": {
     "elapsed": 649,
     "status": "ok",
     "timestamp": 1718869045736,
     "user": {
      "displayName": "Shrihan Agarwal",
      "userId": "00018416289398983661"
     },
     "user_tz": 300
    },
    "id": "YfplCDIb-UU_",
    "outputId": "dbb362ec-4af5-4cb9-c4f9-a0a2766c26c5"
   },
   "outputs": [],
   "source": [
    "# DA Loss\n",
    "fmt = lambda k: \" \".join([i.capitalize() for i in k.split('_')])\n",
    "eps = np.arange(stats[\"epoch_no\"])\n",
    "plt.title(\"DA Loss Error\")\n",
    "plt.plot(eps, stats['train_DA_loss'], label = \"DA Training Loss\")\n",
    "plt.xlabel(\"Epoch\")\n",
    "plt.ylabel(\"Loss\")\n",
    "plt.legend()"
   ]
  },
  {
   "cell_type": "code",
   "execution_count": null,
   "id": "eYG_P_iQ_5Bv",
   "metadata": {
    "colab": {
     "base_uri": "https://localhost:8080/",
     "height": 490
    },
    "executionInfo": {
     "elapsed": 169,
     "status": "ok",
     "timestamp": 1718869045739,
     "user": {
      "displayName": "Shrihan Agarwal",
      "userId": "00018416289398983661"
     },
     "user_tz": 300
    },
    "id": "eYG_P_iQ_5Bv",
    "outputId": "be450f92-eda7-4e4f-81fe-008c55b2b112"
   },
   "outputs": [],
   "source": [
    "# Estimator / Regression\n",
    "plt.title(\"Estimator Error\")\n",
    "plt.plot(eps, stats['train_regression_loss'], label = \"Training Regression Loss\")\n",
    "plt.plot(eps, stats['val_source_regression_loss'], label = \"Source Val Regression Loss\")\n",
    "plt.plot(eps, stats['val_target_regression_loss'], label = \"Target Val Regression Loss\")\n",
    "plt.xlabel(\"Epoch\")\n",
    "plt.ylabel(\"Loss\")\n",
    "plt.legend(fontsize = 'small')"
   ]
  },
  {
   "cell_type": "code",
   "execution_count": null,
   "id": "a5413510-b734-461f-aec2-0a02fe0297cb",
   "metadata": {},
   "outputs": [],
   "source": [
    "# BNLL for MVE\n",
    "plt.title(\"BNLL Error\")\n",
    "plt.plot(eps, stats['train_mve_loss'], label = \"Training MVE Loss\")\n",
    "plt.plot(eps, stats['val_source_mve_loss'], label = \"Source Val MVE Loss\")\n",
    "plt.plot(eps, stats['val_target_mve_loss'], label = \"Target Val MVE Loss\")\n",
    "plt.xlabel(\"Epoch\")\n",
    "plt.ylabel(\"Loss\")\n",
    "plt.legend(fontsize = 'small')\n",
    "plt.ylim(-1, 1)"
   ]
  },
  {
   "cell_type": "code",
   "execution_count": null,
   "id": "xS9rtS-T_neg",
   "metadata": {
    "colab": {
     "base_uri": "https://localhost:8080/",
     "height": 490
    },
    "executionInfo": {
     "elapsed": 237,
     "status": "ok",
     "timestamp": 1718869045904,
     "user": {
      "displayName": "Shrihan Agarwal",
      "userId": "00018416289398983661"
     },
     "user_tz": 300
    },
    "id": "xS9rtS-T_neg",
    "outputId": "d32f40ef-6042-4154-e9ee-1f4e2f90064d"
   },
   "outputs": [],
   "source": [
    "# R2 Scores\n",
    "plt.title(\"R2 Scores\")\n",
    "plt.plot(eps, stats['train_r2_score'], label = \"Training R2\")\n",
    "plt.plot(eps, stats['val_source_r2_score'], label = \"Source Val R2\")\n",
    "plt.plot(eps, stats['val_target_r2_score'], label = \"Target Val R2\")\n",
    "plt.xlabel(\"Epoch\")\n",
    "plt.ylabel(\"$R^2$\")\n",
    "plt.legend()\n",
    "plt.ylim(0.5, 1)"
   ]
  },
  {
   "cell_type": "code",
   "execution_count": null,
   "id": "ed0a8206-7520-4a60-8e17-965a91133b92",
   "metadata": {
    "colab": {
     "base_uri": "https://localhost:8080/",
     "height": 428
    },
    "executionInfo": {
     "elapsed": 969,
     "status": "ok",
     "timestamp": 1718869046858,
     "user": {
      "displayName": "Shrihan Agarwal",
      "userId": "00018416289398983661"
     },
     "user_tz": 300
    },
    "id": "ed0a8206-7520-4a60-8e17-965a91133b92",
    "outputId": "7df8c563-5826-4e43-d9e6-5e686463551d"
   },
   "outputs": [],
   "source": [
    "# Test Source\n",
    "var_preds_source = np.array([])\n",
    "preds_source = np.array([])\n",
    "true_source = np.array([])\n",
    "lbnll_source = np.array([])\n",
    "score_list = np.array([])\n",
    "\n",
    "with torch.no_grad():\n",
    "    for X, y in source_test_dataloader:\n",
    "        X = X.float()\n",
    "        pred, _ = model(X.cuda())\n",
    "        preds_source = np.append(preds_source, pred[:, 0].cpu())\n",
    "        var_preds_source = np.append(var_preds_source, pred[:, 1].cpu())\n",
    "        true_source = np.append(true_source, y.cpu())\n",
    "        score = r2_score(y.cpu(), pred[:, 0].cpu())\n",
    "        score_list = np.append(score_list, score)\n",
    "        lbnll_source = np.append(lbnll_source, loss_bnll(pred[:, 0].cpu(), pred[:, 1].cpu(), y, beta = 0.5))\n",
    "\n",
    "score = np.mean(score_list)\n",
    "print(f'Source R2 Score is {score:.4f}')"
   ]
  },
  {
   "cell_type": "code",
   "execution_count": null,
   "id": "74de10b5-6dda-49b8-8a82-f0e21504d5aa",
   "metadata": {},
   "outputs": [],
   "source": [
    "plt.figure(figsize=(8,8))\n",
    "plt.scatter(true_source, preds_source,  color='black', alpha = 0.1)\n",
    "line = np.linspace(1, 3, 100)\n",
    "plt.plot(line, line)\n",
    "plt.rc('font', size=12)\n",
    "plt.xlabel('True Theta E')\n",
    "plt.ylabel('Predicted Theta E');\n",
    "plt.rc('font', size=20)\n",
    "plt.title('MMD | Source | R2: {0:.3f}'.format(np.mean(score_list)))"
   ]
  },
  {
   "cell_type": "code",
   "execution_count": null,
   "id": "2df938d2-4855-4c7c-8e28-d18eda611977",
   "metadata": {},
   "outputs": [],
   "source": [
    "plt.figure(figsize=(8,8))\n",
    "plt.scatter(true_source, np.sqrt(var_preds_source),  color='black', alpha = 0.1)\n",
    "plt.rc('font', size=12)\n",
    "plt.xlabel('True Theta E')\n",
    "plt.ylabel('Error on Theta E');\n",
    "plt.rc('font', size=20)\n",
    "plt.title('Uncertainty | Source | BNLL: {0:.3f}'.format(np.mean(lbnll_source)))"
   ]
  },
  {
   "cell_type": "code",
   "execution_count": null,
   "id": "fc047cd7-bc92-4a30-9beb-7af607da141f",
   "metadata": {
    "colab": {
     "base_uri": "https://localhost:8080/",
     "height": 444
    },
    "executionInfo": {
     "elapsed": 1283,
     "status": "ok",
     "timestamp": 1718869048133,
     "user": {
      "displayName": "Shrihan Agarwal",
      "userId": "00018416289398983661"
     },
     "user_tz": 300
    },
    "id": "fc047cd7-bc92-4a30-9beb-7af607da141f",
    "outputId": "b6347093-56d9-4a8b-b515-c4c4717cdab4"
   },
   "outputs": [],
   "source": [
    "# Test target\n",
    "preds_target = np.array([])\n",
    "var_preds_target = np.array([])\n",
    "true_target = np.array([])\n",
    "score_list = np.array([])\n",
    "lbnll_target = np.array([])\n",
    "\n",
    "\n",
    "with torch.no_grad():\n",
    "    for X, y in target_test_dataloader:\n",
    "        X = X.float()\n",
    "        pred, _ = model(X.cuda())\n",
    "        preds_target = np.append(preds_target, pred[:, 0].cpu())\n",
    "        var_preds_target = np.append(var_preds_target, pred[:, 1].cpu())\n",
    "        true_target = np.append(true_target, y.cpu())\n",
    "        score = r2_score(y.cpu(), pred[:, 0].cpu())\n",
    "        score_list = np.append(score_list, score)\n",
    "        lbnll_target = np.append(lbnll_target, loss_bnll(pred[:, 0].cpu(), pred[:, 1].cpu(), y, beta = 0.5))\n",
    "\n",
    "\n",
    "score = np.mean(score_list)\n",
    "print(f'Target R2 Score is {score:.4f}')"
   ]
  },
  {
   "cell_type": "code",
   "execution_count": null,
   "id": "7ad3018a-0796-482c-bff1-a2a9d447e784",
   "metadata": {},
   "outputs": [],
   "source": [
    "plt.figure(figsize=(8,8))\n",
    "plt.scatter(true_target, preds_target,  color='black', alpha = 0.1)\n",
    "line = np.linspace(1, 3, 100)\n",
    "plt.plot(line, line)\n",
    "plt.rc('font', size=12)\n",
    "plt.xlabel('True Theta E')\n",
    "plt.ylabel('Predicted Theta E');\n",
    "plt.rc('font', size=20)\n",
    "plt.title('MMD | Target | R2: {0:.3f}'.format(np.mean(score_list)))"
   ]
  },
  {
   "cell_type": "code",
   "execution_count": null,
   "id": "05d0451b-74b1-4244-8742-6509994a9dd0",
   "metadata": {},
   "outputs": [],
   "source": [
    "plt.figure(figsize=(8,8))\n",
    "idx = np.random.choice(np.arange(len(true_target)), 100)\n",
    "plt.errorbar(true_target[idx], preds_target[idx], yerr = np.sqrt(var_preds_target[idx]), fmt = 'o', color='orange', ecolor = 'k', alpha = 1)\n",
    "line = np.linspace(1, 3, 100)\n",
    "plt.plot(line, line, lw = 3)\n",
    "plt.rc('font', size=12)\n",
    "plt.xlabel('True Theta E')\n",
    "plt.ylabel('Predicted Theta E');\n",
    "plt.rc('font', size=20)\n",
    "plt.title('MMD | Target | R2: {0:.3f}'.format(np.mean(score_list)))"
   ]
  },
  {
   "cell_type": "code",
   "execution_count": null,
   "id": "4dc70c57-9da4-4842-9784-ed856c00c0f5",
   "metadata": {},
   "outputs": [],
   "source": [
    "plt.figure(figsize=(8,8))\n",
    "plt.scatter(true_target, np.sqrt(var_preds_target),  color='black', alpha = 0.1)\n",
    "plt.rc('font', size=12)\n",
    "plt.xlabel('True Theta E')\n",
    "plt.ylabel('Error on Theta E');\n",
    "plt.rc('font', size=20)\n",
    "plt.title('Uncertainty | Target | BNLL: {0:.3f}'.format(np.mean(lbnll_target)))"
   ]
  },
  {
   "cell_type": "code",
   "execution_count": null,
   "id": "5fadc74a-8e31-420a-9adb-3792cc488ec8",
   "metadata": {},
   "outputs": [],
   "source": [
    "def sample_variance(obs, true):\n",
    "    return np.std(obs - true) ** 2"
   ]
  },
  {
   "cell_type": "code",
   "execution_count": null,
   "id": "4e63e41f-60d1-45b3-bea2-13556feefcdb",
   "metadata": {},
   "outputs": [],
   "source": [
    "n_points = 30\n",
    "rand_idx = np.random.choice(np.arange(len(preds_source)), n_points)\n",
    "residuals = preds_source[rand_idx] - true_source[rand_idx]\n",
    "resid_all = preds_target - true_target\n",
    "errors = np.sqrt(var_preds_source[rand_idx])\n",
    "sv = np.sqrt(sample_variance(preds_source, true_source))\n",
    "mn = np.mean(resid_all)\n",
    "\n",
    "# Create the figure and axes\n",
    "fig, (ax_hist, ax_resid) = plt.subplots(2, 1, gridspec_kw={'height_ratios': [1, 3]}, figsize=(6, 8))\n",
    "\n",
    "\n",
    "\n",
    "# Plot the histogram\n",
    "ax_hist.hist(resid_all, bins=10, edgecolor='black', alpha=0.7)\n",
    "ax_hist.set_title('Source Residuals')\n",
    "ax_hist.set_ylabel('Frequency')\n",
    "\n",
    "# Plot the residuals with error bars in the x-direction\n",
    "ax_resid.errorbar(x=residuals, y=np.arange(n_points), xerr=errors, fmt='o', alpha=0.5, ecolor = 'k', color = 'k')\n",
    "ax_resid.axvline(x=0, color='red', linestyle='--')\n",
    "ax_resid.set_xlabel('Residuals (Predicted - True)')\n",
    "ax_resid.set_ylabel('Data Point Index')\n",
    "ax_resid.set_title('Sample Stdev: {0:.3f}'.format(sv))\n",
    "ax_resid.axvspan(mn-sv, mn+sv, alpha = 0.5, label = \"Sample Stdev\")\n",
    "ax_resid.axvline(mn, color = 'k', ls = '--', label = \"Bias\")\n",
    "ax_resid.legend(loc = 'upper left', fontsize = 'x-small')\n",
    "\n",
    "plt.xlim(-0.8, 0.8)\n",
    "\n",
    "plt.tight_layout()\n",
    "plt.show()"
   ]
  },
  {
   "cell_type": "code",
   "execution_count": null,
   "id": "8322ca8d-98bf-4097-903c-772dd1a3cfc9",
   "metadata": {},
   "outputs": [],
   "source": [
    "n_points = 30\n",
    "rand_idx = np.random.choice(np.arange(len(preds_source)), n_points)\n",
    "residuals = preds_target[rand_idx] - true_target[rand_idx]\n",
    "resid_all = preds_target - true_target\n",
    "errors = np.sqrt(var_preds_target[rand_idx])\n",
    "sv = np.sqrt(sample_variance(preds_target, true_target))\n",
    "mn = np.mean(resid_all)\n",
    "# Create the figure and axes\n",
    "fig, (ax_hist, ax_resid) = plt.subplots(2, 1, gridspec_kw={'height_ratios': [1, 3]}, figsize=(6, 8))\n",
    "\n",
    "\n",
    "\n",
    "# Plot the histogram\n",
    "ax_hist.hist(resid_all, bins=10, edgecolor='black', alpha=0.7)\n",
    "ax_hist.set_title('Target Residuals')\n",
    "ax_hist.set_ylabel('Frequency')\n",
    "\n",
    "# Plot the residuals with error bars in the x-direction\n",
    "ax_resid.errorbar(x=residuals, y=np.arange(n_points), xerr=errors, fmt='o', alpha=0.5, ecolor = 'k', color = 'k')\n",
    "ax_resid.axvline(x=0, color='red', linestyle='--')\n",
    "ax_resid.set_xlabel('Residuals (Predicted - True)')\n",
    "ax_resid.set_ylabel('Data Point Index')\n",
    "ax_resid.set_title('Sample Stdev: {0:.3f}'.format(sv))\n",
    "ax_resid.axvspan(mn-sv, mn+sv, alpha = 0.5, label = \"Sample Stdev\")\n",
    "ax_resid.axvline(mn, color = 'k', ls = '--', label = \"Bias\")\n",
    "ax_resid.legend(loc = 'upper left', fontsize = 'x-small')\n",
    "\n",
    "plt.xlim(-0.8, 0.8)\n",
    "\n",
    "plt.tight_layout()\n",
    "plt.show()"
   ]
  },
  {
   "cell_type": "code",
   "execution_count": null,
   "id": "737cc83d-64f6-4887-bd41-1cbf7fe2950b",
   "metadata": {},
   "outputs": [],
   "source": []
  },
  {
   "cell_type": "code",
   "execution_count": null,
   "id": "60f5128e-6601-4d1d-aff8-ef056edfcedf",
   "metadata": {},
   "outputs": [],
   "source": []
  }
 ],
 "metadata": {
  "accelerator": "GPU",
  "colab": {
   "gpuType": "T4",
   "provenance": [
    {
     "file_id": "1MFScb-3Sbugn4RNiDaeocicJUIHlh_j2",
     "timestamp": 1717430435817
    },
    {
     "file_id": "1wlKaSdLzleueYrwljtOcqsiOfzEy1dxP",
     "timestamp": 1717429638462
    }
   ]
  },
  "kernelspec": {
   "display_name": "Python [conda env:.conda-neural]",
   "language": "python",
   "name": "conda-env-.conda-neural-py"
  },
  "language_info": {
   "codemirror_mode": {
    "name": "ipython",
    "version": 3
   },
   "file_extension": ".py",
   "mimetype": "text/x-python",
   "name": "python",
   "nbconvert_exporter": "python",
   "pygments_lexer": "ipython3",
   "version": "3.9.15"
  }
 },
 "nbformat": 4,
 "nbformat_minor": 5
}
