{
 "cells": [
  {
   "cell_type": "code",
   "execution_count": 1,
   "metadata": {},
   "outputs": [],
   "source": [
    "import deeplenstronomy.deeplenstronomy as dl\n",
    "from pathlib import Path"
   ]
  },
  {
   "cell_type": "code",
   "execution_count": 2,
   "metadata": {},
   "outputs": [],
   "source": [
    "def rename_result(name, head):\n",
    "    datapath = head / f'data/{name}'\n",
    "    imgpath = datapath / 'CONFIGURATION_1_images.npy'\n",
    "    mdpath = datapath / 'CONFIGURATION_1_metadata.csv'\n",
    "    if imgpath.exists():\n",
    "        imgpath.rename(datapath / (datapath.name + '.npy'))\n",
    "    if mdpath.exists():\n",
    "        mdpath.rename(datapath / (datapath.name + '_metadata.csv'))"
   ]
  },
  {
   "cell_type": "code",
   "execution_count": 5,
   "metadata": {},
   "outputs": [
    {
     "name": "stdout",
     "output_type": "stream",
     "text": [
      "Entering main organization loop\n",
      "Organizing CONFIGURATION_1\n",
      "Generating images for CONFIGURATION_1\n",
      "\tProgress: 100.0 %  ---  Elapsed Time: 0 H 6 M 1 S         \n"
     ]
    }
   ],
   "source": [
    "head = Path.cwd().parent.parent\n",
    "config_file = head / 'sim/configs/delve_target.yaml'\n",
    "dataset = dl.make_dataset(config_file, verbose=True, save_to_disk=True)"
   ]
  },
  {
   "cell_type": "code",
   "execution_count": 6,
   "metadata": {},
   "outputs": [],
   "source": [
    "rename_result('delve_target_2', head)"
   ]
  },
  {
   "cell_type": "code",
   "execution_count": 3,
   "metadata": {},
   "outputs": [
    {
     "name": "stdout",
     "output_type": "stream",
     "text": [
      "Entering main organization loop\n",
      "Organizing CONFIGURATION_1\n",
      "Generating images for CONFIGURATION_1\n",
      "\tProgress: 100.0 %  ---  Elapsed Time: 0 H 5 M 55 S         \n"
     ]
    }
   ],
   "source": [
    "head = Path.cwd().parent.parent\n",
    "config_file = head / 'sim/configs/delve_source.yaml'\n",
    "dataset = dl.make_dataset(config_file, verbose=True, save_to_disk=True)"
   ]
  },
  {
   "cell_type": "code",
   "execution_count": 4,
   "metadata": {},
   "outputs": [],
   "source": [
    "rename_result('delve_source_2', head)"
   ]
  },
  {
   "cell_type": "code",
   "execution_count": null,
   "metadata": {},
   "outputs": [],
   "source": []
  },
  {
   "cell_type": "code",
   "execution_count": 35,
   "metadata": {},
   "outputs": [],
   "source": [
    "import pandas as pd\n",
    "source_z = Path.cwd().parent / 'backgrounds/map.txt'\n",
    "t = pd.read_csv(source_z, delim_whitespace = True)"
   ]
  },
  {
   "cell_type": "code",
   "execution_count": 36,
   "metadata": {},
   "outputs": [
    {
     "data": {
      "text/html": [
       "<div>\n",
       "<style scoped>\n",
       "    .dataframe tbody tr th:only-of-type {\n",
       "        vertical-align: middle;\n",
       "    }\n",
       "\n",
       "    .dataframe tbody tr th {\n",
       "        vertical-align: top;\n",
       "    }\n",
       "\n",
       "    .dataframe thead th {\n",
       "        text-align: right;\n",
       "    }\n",
       "</style>\n",
       "<table border=\"1\" class=\"dataframe\">\n",
       "  <thead>\n",
       "    <tr style=\"text-align: right;\">\n",
       "      <th></th>\n",
       "      <th>exposure_time-g</th>\n",
       "      <th>exposure_time-r</th>\n",
       "      <th>exposure_time-i</th>\n",
       "      <th>exposure_time-z</th>\n",
       "      <th>magnitude_zero_point-g</th>\n",
       "      <th>magnitude_zero_point-r</th>\n",
       "      <th>magnitude_zero_point-i</th>\n",
       "      <th>magnitude_zero_point-z</th>\n",
       "    </tr>\n",
       "  </thead>\n",
       "  <tbody>\n",
       "    <tr>\n",
       "      <th>0</th>\n",
       "      <td>108.0</td>\n",
       "      <td>40.0</td>\n",
       "      <td>160.0</td>\n",
       "      <td>240.0</td>\n",
       "      <td>31.638035</td>\n",
       "      <td>30.699394</td>\n",
       "      <td>32.277115</td>\n",
       "      <td>32.466034</td>\n",
       "    </tr>\n",
       "    <tr>\n",
       "      <th>1</th>\n",
       "      <td>90.0</td>\n",
       "      <td>63.0</td>\n",
       "      <td>90.0</td>\n",
       "      <td>180.0</td>\n",
       "      <td>31.477333</td>\n",
       "      <td>31.402504</td>\n",
       "      <td>31.648746</td>\n",
       "      <td>31.838460</td>\n",
       "    </tr>\n",
       "    <tr>\n",
       "      <th>2</th>\n",
       "      <td>90.0</td>\n",
       "      <td>40.0</td>\n",
       "      <td>70.0</td>\n",
       "      <td>30.0</td>\n",
       "      <td>31.616297</td>\n",
       "      <td>30.695173</td>\n",
       "      <td>31.333422</td>\n",
       "      <td>30.025328</td>\n",
       "    </tr>\n",
       "    <tr>\n",
       "      <th>3</th>\n",
       "      <td>86.0</td>\n",
       "      <td>86.0</td>\n",
       "      <td>100.0</td>\n",
       "      <td>87.0</td>\n",
       "      <td>31.450940</td>\n",
       "      <td>31.573170</td>\n",
       "      <td>31.691639</td>\n",
       "      <td>31.273110</td>\n",
       "    </tr>\n",
       "    <tr>\n",
       "      <th>4</th>\n",
       "      <td>90.0</td>\n",
       "      <td>30.0</td>\n",
       "      <td>160.0</td>\n",
       "      <td>30.0</td>\n",
       "      <td>31.548435</td>\n",
       "      <td>30.458015</td>\n",
       "      <td>32.259125</td>\n",
       "      <td>30.167582</td>\n",
       "    </tr>\n",
       "    <tr>\n",
       "      <th>...</th>\n",
       "      <td>...</td>\n",
       "      <td>...</td>\n",
       "      <td>...</td>\n",
       "      <td>...</td>\n",
       "      <td>...</td>\n",
       "      <td>...</td>\n",
       "      <td>...</td>\n",
       "      <td>...</td>\n",
       "    </tr>\n",
       "    <tr>\n",
       "      <th>20569</th>\n",
       "      <td>90.0</td>\n",
       "      <td>53.0</td>\n",
       "      <td>90.0</td>\n",
       "      <td>172.0</td>\n",
       "      <td>31.553034</td>\n",
       "      <td>31.141245</td>\n",
       "      <td>31.718100</td>\n",
       "      <td>32.090130</td>\n",
       "    </tr>\n",
       "    <tr>\n",
       "      <th>20570</th>\n",
       "      <td>114.0</td>\n",
       "      <td>122.0</td>\n",
       "      <td>90.0</td>\n",
       "      <td>100.0</td>\n",
       "      <td>31.624949</td>\n",
       "      <td>31.978525</td>\n",
       "      <td>31.704601</td>\n",
       "      <td>31.498419</td>\n",
       "    </tr>\n",
       "    <tr>\n",
       "      <th>20571</th>\n",
       "      <td>200.0</td>\n",
       "      <td>200.0</td>\n",
       "      <td>200.0</td>\n",
       "      <td>60.0</td>\n",
       "      <td>32.446670</td>\n",
       "      <td>32.622753</td>\n",
       "      <td>32.552940</td>\n",
       "      <td>30.985960</td>\n",
       "    </tr>\n",
       "    <tr>\n",
       "      <th>20572</th>\n",
       "      <td>40.0</td>\n",
       "      <td>100.0</td>\n",
       "      <td>90.0</td>\n",
       "      <td>113.0</td>\n",
       "      <td>30.642925</td>\n",
       "      <td>31.843204</td>\n",
       "      <td>31.632883</td>\n",
       "      <td>31.618350</td>\n",
       "    </tr>\n",
       "    <tr>\n",
       "      <th>20573</th>\n",
       "      <td>90.0</td>\n",
       "      <td>30.0</td>\n",
       "      <td>30.0</td>\n",
       "      <td>35.0</td>\n",
       "      <td>31.581793</td>\n",
       "      <td>30.456833</td>\n",
       "      <td>30.483410</td>\n",
       "      <td>30.352386</td>\n",
       "    </tr>\n",
       "  </tbody>\n",
       "</table>\n",
       "<p>20574 rows × 8 columns</p>\n",
       "</div>"
      ],
      "text/plain": [
       "       exposure_time-g  exposure_time-r  exposure_time-i  exposure_time-z  \\\n",
       "0                108.0             40.0            160.0            240.0   \n",
       "1                 90.0             63.0             90.0            180.0   \n",
       "2                 90.0             40.0             70.0             30.0   \n",
       "3                 86.0             86.0            100.0             87.0   \n",
       "4                 90.0             30.0            160.0             30.0   \n",
       "...                ...              ...              ...              ...   \n",
       "20569             90.0             53.0             90.0            172.0   \n",
       "20570            114.0            122.0             90.0            100.0   \n",
       "20571            200.0            200.0            200.0             60.0   \n",
       "20572             40.0            100.0             90.0            113.0   \n",
       "20573             90.0             30.0             30.0             35.0   \n",
       "\n",
       "       magnitude_zero_point-g  magnitude_zero_point-r  magnitude_zero_point-i  \\\n",
       "0                   31.638035               30.699394               32.277115   \n",
       "1                   31.477333               31.402504               31.648746   \n",
       "2                   31.616297               30.695173               31.333422   \n",
       "3                   31.450940               31.573170               31.691639   \n",
       "4                   31.548435               30.458015               32.259125   \n",
       "...                       ...                     ...                     ...   \n",
       "20569               31.553034               31.141245               31.718100   \n",
       "20570               31.624949               31.978525               31.704601   \n",
       "20571               32.446670               32.622753               32.552940   \n",
       "20572               30.642925               31.843204               31.632883   \n",
       "20573               31.581793               30.456833               30.483410   \n",
       "\n",
       "       magnitude_zero_point-z  \n",
       "0                   32.466034  \n",
       "1                   31.838460  \n",
       "2                   30.025328  \n",
       "3                   31.273110  \n",
       "4                   30.167582  \n",
       "...                       ...  \n",
       "20569               32.090130  \n",
       "20570               31.498419  \n",
       "20571               30.985960  \n",
       "20572               31.618350  \n",
       "20573               30.352386  \n",
       "\n",
       "[20574 rows x 8 columns]"
      ]
     },
     "execution_count": 36,
     "metadata": {},
     "output_type": "execute_result"
    }
   ],
   "source": [
    "t"
   ]
  },
  {
   "cell_type": "code",
   "execution_count": 37,
   "metadata": {},
   "outputs": [],
   "source": [
    "t = t.drop(columns = ['exposure_time-i', 'magnitude_zero_point-i'])"
   ]
  },
  {
   "cell_type": "code",
   "execution_count": 39,
   "metadata": {},
   "outputs": [],
   "source": [
    "t[['magnitude_zero_point-g', 'magnitude_zero_point-r', 'magnitude_zero_point-z']] = t[['magnitude_zero_point-g', 'magnitude_zero_point-r', 'magnitude_zero_point-z']].round(6)"
   ]
  },
  {
   "cell_type": "code",
   "execution_count": 40,
   "metadata": {},
   "outputs": [],
   "source": [
    "t.to_csv('../backgrounds/map.txt', sep='\\t', index = False)"
   ]
  },
  {
   "cell_type": "code",
   "execution_count": null,
   "metadata": {},
   "outputs": [],
   "source": []
  },
  {
   "cell_type": "code",
   "execution_count": null,
   "metadata": {},
   "outputs": [],
   "source": []
  },
  {
   "cell_type": "code",
   "execution_count": null,
   "metadata": {},
   "outputs": [],
   "source": []
  },
  {
   "cell_type": "code",
   "execution_count": null,
   "metadata": {},
   "outputs": [],
   "source": []
  },
  {
   "cell_type": "code",
   "execution_count": null,
   "metadata": {},
   "outputs": [],
   "source": []
  },
  {
   "cell_type": "code",
   "execution_count": 30,
   "metadata": {},
   "outputs": [],
   "source": [
    "head = Path.cwd().parents[1]\n",
    "source_img_path = head / 'data/mb_lenscolor_source/mb_lenscolor_source.npy'\n",
    "source_meta = head / 'data/mb_lenscolor_source/mb_lenscolor_source_metadata.csv'"
   ]
  },
  {
   "cell_type": "code",
   "execution_count": 31,
   "metadata": {},
   "outputs": [],
   "source": [
    "import pandas as pd\n",
    "t = pd.read_csv(source_meta)"
   ]
  },
  {
   "cell_type": "code",
   "execution_count": 53,
   "metadata": {},
   "outputs": [],
   "source": [
    "idx = [i[16:] for i in dataset.search('magnitude')['SOURCE']]"
   ]
  },
  {
   "cell_type": "code",
   "execution_count": 54,
   "metadata": {
    "jupyter": {
     "source_hidden": true
    },
    "scrolled": true
   },
   "outputs": [
    {
     "data": {
      "text/plain": [
       "['PLANE_2-OBJECT_1-LIGHT_PROFILE_1-magnitude-g',\n",
       " 'PLANE_2-OBJECT_1-LIGHT_PROFILE_1-magnitude-r',\n",
       " 'PLANE_2-OBJECT_1-LIGHT_PROFILE_1-magnitude-z']"
      ]
     },
     "execution_count": 54,
     "metadata": {},
     "output_type": "execute_result"
    }
   ],
   "source": [
    "idx"
   ]
  },
  {
   "cell_type": "markdown",
   "metadata": {},
   "source": [
    "t[idx]"
   ]
  },
  {
   "cell_type": "code",
   "execution_count": 42,
   "metadata": {},
   "outputs": [
    {
     "data": {
      "text/plain": [
       "Index(['OBJID-g', 'H0-g', 'Om0-g', 'exposure_time-g', 'numPix-g',\n",
       "       'pixel_scale-g', 'psf_type-g', 'read_noise-g', 'ccd_gain-g', 'seeing-g',\n",
       "       ...\n",
       "       'PLANE_2-OBJECT_1-MASS_PROFILE_1-e2-z',\n",
       "       'PLANE_2-OBJECT_1-MASS_PROFILE_1-center_x-z',\n",
       "       'PLANE_2-OBJECT_1-MASS_PROFILE_1-center_y-z', 'BACKGROUND_IDX-z',\n",
       "       'PLANE_1-REDSHIFT-g', 'PLANE_2-REDSHIFT-g', 'PLANE_1-REDSHIFT-r',\n",
       "       'PLANE_2-REDSHIFT-r', 'PLANE_1-REDSHIFT-z', 'PLANE_2-REDSHIFT-z'],\n",
       "      dtype='object', length=195)"
      ]
     },
     "execution_count": 42,
     "metadata": {},
     "output_type": "execute_result"
    }
   ],
   "source": [
    "t.keys()"
   ]
  }
 ],
 "metadata": {
  "kernelspec": {
   "display_name": "Python [conda env:.conda-deeplens]",
   "language": "python",
   "name": "conda-env-.conda-deeplens-py"
  },
  "language_info": {
   "codemirror_mode": {
    "name": "ipython",
    "version": 3
   },
   "file_extension": ".py",
   "mimetype": "text/x-python",
   "name": "python",
   "nbconvert_exporter": "python",
   "pygments_lexer": "ipython3",
   "version": "3.7.12"
  }
 },
 "nbformat": 4,
 "nbformat_minor": 4
}
