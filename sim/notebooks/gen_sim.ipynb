{
 "cells": [
  {
   "cell_type": "code",
   "execution_count": 1,
   "metadata": {},
   "outputs": [],
   "source": [
    "import deeplenstronomy.deeplenstronomy as dl\n",
    "from pathlib import Path"
   ]
  },
  {
   "cell_type": "code",
   "execution_count": 2,
   "metadata": {},
   "outputs": [],
   "source": [
    "def rename_result(name, head):\n",
    "    datapath = head / f'data/{name}'\n",
    "    imgpath = datapath / 'CONFIGURATION_1_images.npy'\n",
    "    mdpath = datapath / 'CONFIGURATION_1_metadata.csv'\n",
    "    if imgpath.exists():\n",
    "        imgpath.rename(datapath / (datapath.name + '.npy'))\n",
    "    if mdpath.exists():\n",
    "        mdpath.rename(datapath / (datapath.name + '_metadata.csv'))"
   ]
  },
  {
   "cell_type": "code",
   "execution_count": 3,
   "metadata": {},
   "outputs": [
    {
     "name": "stdout",
     "output_type": "stream",
     "text": [
      "Entering main organization loop\n",
      "Organizing CONFIGURATION_1\n",
      "Generating images for CONFIGURATION_1\n",
      "\tProgress: 100.0 %  ---  Elapsed Time: 0 H 1 M 58 S         \n"
     ]
    }
   ],
   "source": [
    "head = Path.cwd().parent.parent\n",
    "config_file = head / 'sim/configs/fid_source.yaml'\n",
    "dataset = dl.make_dataset(config_file, verbose=True, save_to_disk=True)"
   ]
  },
  {
   "cell_type": "code",
   "execution_count": 4,
   "metadata": {},
   "outputs": [],
   "source": [
    "rename_result('fid_source', head)"
   ]
  },
  {
   "cell_type": "code",
   "execution_count": 5,
   "metadata": {},
   "outputs": [
    {
     "name": "stdout",
     "output_type": "stream",
     "text": [
      "Entering main organization loop\n",
      "Organizing CONFIGURATION_1\n",
      "Generating images for CONFIGURATION_1\n",
      "\tProgress: 100.0 %  ---  Elapsed Time: 0 H 1 M 58 S         \n"
     ]
    }
   ],
   "source": [
    "head = Path.cwd().parent.parent\n",
    "config_file = head / 'sim/configs/fid_target.yaml'\n",
    "dataset = dl.make_dataset(config_file, verbose=True, save_to_disk=True)"
   ]
  },
  {
   "cell_type": "code",
   "execution_count": 6,
   "metadata": {},
   "outputs": [],
   "source": [
    "rename_result('fid_target', head)"
   ]
  },
  {
   "cell_type": "code",
   "execution_count": null,
   "metadata": {},
   "outputs": [],
   "source": []
  }
 ],
 "metadata": {
  "kernelspec": {
   "display_name": "Python [conda env:.conda-deeplens]",
   "language": "python",
   "name": "conda-env-.conda-deeplens-py"
  },
  "language_info": {
   "codemirror_mode": {
    "name": "ipython",
    "version": 3
   },
   "file_extension": ".py",
   "mimetype": "text/x-python",
   "name": "python",
   "nbconvert_exporter": "python",
   "pygments_lexer": "ipython3",
   "version": "3.7.12"
  }
 },
 "nbformat": 4,
 "nbformat_minor": 4
}
